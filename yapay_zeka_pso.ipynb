{
  "nbformat": 4,
  "nbformat_minor": 0,
  "metadata": {
    "colab": {
      "provenance": [],
      "gpuType": "T4"
    },
    "kernelspec": {
      "name": "python3",
      "display_name": "Python 3"
    },
    "language_info": {
      "name": "python"
    },
    "accelerator": "GPU",
    "gpuClass": "standard"
  },
  "cells": [
    {
      "cell_type": "code",
      "execution_count": 3,
      "metadata": {
        "id": "VoYAHtIX4HJI"
      },
      "outputs": [],
      "source": [
        "import numpy as np"
      ]
    },
    {
      "cell_type": "code",
      "source": [
        "# Toprak ve bitki özelliklerinin tanımlanması\n",
        "area = 20  # Bahçenin alanı (metrekare)\n",
        "soil_type = \"sandy\"  # Toprak türü\n",
        "plant_type = \"tomato\"  # Bitki türü"
      ],
      "metadata": {
        "id": "T4yRq1OI4qWD"
      },
      "execution_count": 4,
      "outputs": []
    },
    {
      "cell_type": "code",
      "source": [
        "# Hedef fonksiyonun tanımlanması\n",
        "def objective_function(x):\n",
        "    # x[0] - su kaynağı\n",
        "    # x[1] - sulama miktarı\n",
        "    # x[2] - sulama sıklığı\n",
        "    # x[3] - sulama süresi\n",
        "    # x[4] - sulama bölgesi\n",
        "    # x[5] - sulama yöntemi\n",
        "\n",
        "    # Hedef fonksiyonu - Su tüketimini minimize ederek bitki büyümesini maksimize etmek\n",
        "    water_consumption = x[1] * x[2] * x[3] * x[4] * x[5]\n",
        "    plant_growth = x[1] * x[3] * x[4] * x[5]\n",
        "    objective = -(plant_growth / water_consumption)\n",
        "    return objective\n"
      ],
      "metadata": {
        "id": "hwXnneX54lbJ"
      },
      "execution_count": 5,
      "outputs": []
    },
    {
      "cell_type": "code",
      "source": [
        "# PSO algoritmasının tanımlanması\n",
        "def pso(objective_function, bounds, num_particles, maxiter, c1, c2):\n",
        "    # Partiküllerin başlangıç ​​pozisyonlarının belirlenmesi\n",
        "    dimensions = len(bounds)\n",
        "    x_min, x_max = np.asarray(bounds).T\n",
        "    x_0 = np.random.rand(num_particles, dimensions)\n",
        "    x_0 = x_min + x_0 * (x_max - x_min)\n",
        "\n",
        "    # Başlangıç hızlarının belirlenmesi\n",
        "    v_min = -abs(x_max - x_min)\n",
        "    v_max = abs(x_max - x_min)\n",
        "    v_0 = np.random.uniform(low=v_min, high=v_max, size=(num_particles, dimensions))\n",
        "\n",
        "    # En iyi konumların ve uygunluk değerlerinin kaydedilmesi\n",
        "    best_position = x_0.copy()\n",
        "    best_fitness = [objective_function(x) for x in x_0]"
      ],
      "metadata": {
        "id": "-bqPU-7F4mAk"
      },
      "execution_count": 6,
      "outputs": []
    },
    {
      "cell_type": "code",
      "source": [
        "def pso(objective_function, bounds, num_particles, maxiter, c1, c2):\n",
        "    # En iyi konumların ve uygunluk değerlerinin kaydedilmesi\n",
        "    dimensions = len(bounds)\n",
        "    x_min, x_max = np.asarray(bounds).T\n",
        "    x_0 = np.random.rand(num_particles, dimensions)\n",
        "    x_0 = x_min + x_0 * (x_max - x_min)\n",
        "\n",
        "    v_min = -abs(x_max - x_min)\n",
        "    v_max = abs(x_max - x_min)\n",
        "    v_0 = np.random.uniform(low=v_min, high=v_max, size=(num_particles, dimensions))\n",
        "\n",
        "    best_position = x_0.copy()\n",
        "    best_fitness = [objective_function(x) for x in x_0]\n",
        "\n",
        "    global_best_position = best_position.copy()\n",
        "    global_best_fitness = min(best_fitness)\n",
        "\n",
        "    for i in range(maxiter):\n",
        "        for j in range(num_particles):\n",
        "            # Partikülün yeni hızı\n",
        "            v_0 = v_0 + c1 * np.random.rand(dimensions) * (best_position - x_0) + c2 * np.random.rand(dimensions) * (global_best_position - x_0)\n",
        "\n",
        "            # Partikülün yeni konumu\n",
        "            x_0[j] = x_0[j] + v_0[j]\n",
        "\n",
        "            # Sınırların dışına çıkmaması sağlanır\n",
        "            x_0[j] = np.clip(x_0[j], x_min, x_max)\n",
        "\n",
        "            # Partikülün uygunluk değeri\n",
        "            fitness = objective_function(x_0[j])\n",
        "\n",
        "            # En iyi konumların ve uygunluk değerlerinin güncellenmesi\n",
        "            if fitness < best_fitness[j]:\n",
        "                best_fitness[j] = fitness\n",
        "                best_position[j] = x_0[j]\n",
        "\n",
        "                if fitness < global_best_fitness:\n",
        "                    global_best_fitness = fitness\n",
        "                    global_best_position = x_0[j]\n",
        "\n",
        "    return global_best_position, global_best_fitness"
      ],
      "metadata": {
        "id": "43808Jcj40l0"
      },
      "execution_count": 7,
      "outputs": []
    },
    {
      "cell_type": "code",
      "source": [
        "bounds = [(0, 100), (0, 50), (1, 7), (1, 24), (1, 10), (0, 1)]\n",
        "num_particles = 50\n",
        "maxiter = 100\n",
        "c1 = 2\n",
        "c2 = 2\n",
        "global_best_position, global_best_fitness = pso(objective_function, bounds, num_particles, maxiter, c1, c2)\n",
        "print(\"En iyi pozisyon: \", global_best_position)\n",
        "print(\"En iyi uygunluk değeri: \", global_best_fitness)"
      ],
      "metadata": {
        "colab": {
          "base_uri": "https://localhost:8080/"
        },
        "id": "kRWVOF6N5B4x",
        "outputId": "a6fa7e78-c9f5-4a32-d30f-942eb5448018"
      },
      "execution_count": 9,
      "outputs": [
        {
          "output_type": "stream",
          "name": "stdout",
          "text": [
            "En iyi pozisyon:  [ 0. 50.  1.  1. 10.  1.]\n",
            "En iyi uygunluk değeri:  -1.0\n"
          ]
        },
        {
          "output_type": "stream",
          "name": "stderr",
          "text": [
            "<ipython-input-5-eca2d6693d05>:13: RuntimeWarning: invalid value encountered in double_scalars\n",
            "  objective = -(plant_growth / water_consumption)\n"
          ]
        }
      ]
    }
  ]
}